{
 "cells": [
  {
   "cell_type": "markdown",
   "id": "8bc66bfb-714b-47ac-9749-288f6d94ba58",
   "metadata": {
    "tags": []
   },
   "source": [
    "## Q1. Create one variable containing following type of data:\n"
   ]
  },
  {
   "cell_type": "code",
   "execution_count": 11,
   "id": "57d86491-4d79-4525-befc-58e0dd020ff4",
   "metadata": {},
   "outputs": [
    {
     "data": {
      "text/plain": [
       "str"
      ]
     },
     "execution_count": 11,
     "metadata": {},
     "output_type": "execute_result"
    }
   ],
   "source": [
    "\n",
    "s = \"abhi\"\n",
    "type(s)\n"
   ]
  },
  {
   "cell_type": "code",
   "execution_count": 7,
   "id": "e6afa831-7113-47ba-b6e7-a3fac6bfab77",
   "metadata": {},
   "outputs": [
    {
     "data": {
      "text/plain": [
       "list"
      ]
     },
     "execution_count": 7,
     "metadata": {},
     "output_type": "execute_result"
    }
   ],
   "source": [
    "list \n",
    "\n",
    "l = [1,2,3]\n",
    "type(l)"
   ]
  },
  {
   "cell_type": "code",
   "execution_count": 13,
   "id": "6d81e23b-38c1-4b4e-baea-5d9d785b2890",
   "metadata": {},
   "outputs": [
    {
     "data": {
      "text/plain": [
       "float"
      ]
     },
     "execution_count": 13,
     "metadata": {},
     "output_type": "execute_result"
    }
   ],
   "source": [
    "float\n",
    "\n",
    "f = 158.869\n",
    "type(f)"
   ]
  },
  {
   "cell_type": "code",
   "execution_count": 15,
   "id": "58f8d0f0-456a-40d1-8a05-3071858172f2",
   "metadata": {},
   "outputs": [
    {
     "data": {
      "text/plain": [
       "int"
      ]
     },
     "execution_count": 15,
     "metadata": {},
     "output_type": "execute_result"
    }
   ],
   "source": [
    "tuple \n",
    "\n",
    "d = (549)\n",
    "type(d)"
   ]
  },
  {
   "cell_type": "code",
   "execution_count": null,
   "id": "c2a7bf21-7ff6-45bb-8faa-70939f62201b",
   "metadata": {},
   "outputs": [],
   "source": []
  },
  {
   "cell_type": "markdown",
   "id": "bc1e1629-7f8b-4548-8778-55f1da8f5029",
   "metadata": {},
   "source": [
    "## Q2. Given are some following variables containing data:"
   ]
  },
  {
   "cell_type": "markdown",
   "id": "7055d9b4-c26a-4daf-9713-758f4399ac98",
   "metadata": {},
   "source": [
    "### (i) var1 = ‘ ‘\n",
    "Ans string\n"
   ]
  },
  {
   "cell_type": "code",
   "execution_count": 28,
   "id": "8d8520f9-c796-48df-97a4-5ab156e28a30",
   "metadata": {},
   "outputs": [],
   "source": [
    "var1 = \" \""
   ]
  },
  {
   "cell_type": "code",
   "execution_count": 29,
   "id": "9b0c6342-ba73-4eff-9233-24a83cf3ae19",
   "metadata": {},
   "outputs": [
    {
     "data": {
      "text/plain": [
       "str"
      ]
     },
     "execution_count": 29,
     "metadata": {},
     "output_type": "execute_result"
    }
   ],
   "source": [
    "type(var1)"
   ]
  },
  {
   "cell_type": "markdown",
   "id": "427cd695-b9e3-42d6-956a-c537653b0bea",
   "metadata": {},
   "source": [
    "### (ii) var2 = ‘[ DS , ML , Python]’\n",
    "ans string\n"
   ]
  },
  {
   "cell_type": "code",
   "execution_count": 30,
   "id": "f93a7a44-b01f-482c-9b79-df0977c16d7d",
   "metadata": {},
   "outputs": [],
   "source": [
    "var2 = \"[ds,ml,python]\""
   ]
  },
  {
   "cell_type": "code",
   "execution_count": 31,
   "id": "e4dd772f-66a5-428e-ab15-ff750e3c4d7f",
   "metadata": {},
   "outputs": [
    {
     "data": {
      "text/plain": [
       "str"
      ]
     },
     "execution_count": 31,
     "metadata": {},
     "output_type": "execute_result"
    }
   ],
   "source": [
    "type(var2)"
   ]
  },
  {
   "cell_type": "markdown",
   "id": "eade4424-d0b5-4888-b4f2-9155ea7148e4",
   "metadata": {},
   "source": [
    "## (iii) var3 = [ ‘DS’ , ’ML’ , ‘Python’ ]\n",
    "ans list"
   ]
  },
  {
   "cell_type": "code",
   "execution_count": 33,
   "id": "d06b28aa-1cbd-41ef-9ac7-eedad241fd9f",
   "metadata": {},
   "outputs": [],
   "source": [
    "var3 = [\"ds\",\"ml\",\"python\"]"
   ]
  },
  {
   "cell_type": "code",
   "execution_count": 34,
   "id": "56ecb632-f460-48c9-b7f5-db201b025846",
   "metadata": {},
   "outputs": [
    {
     "data": {
      "text/plain": [
       "list"
      ]
     },
     "execution_count": 34,
     "metadata": {},
     "output_type": "execute_result"
    }
   ],
   "source": [
    "type(var3)"
   ]
  },
  {
   "cell_type": "markdown",
   "id": "c027f099-ca5d-4924-a53c-de327fc75307",
   "metadata": {},
   "source": [
    "## (iv) var4 = 1.\n",
    "ans float"
   ]
  },
  {
   "cell_type": "code",
   "execution_count": 36,
   "id": "8cb005c7-ed86-44b0-b92d-bd11a7971c2a",
   "metadata": {},
   "outputs": [],
   "source": [
    "var4 = 1."
   ]
  },
  {
   "cell_type": "code",
   "execution_count": 37,
   "id": "470411b4-52b0-4e34-9f18-af92e755e21c",
   "metadata": {},
   "outputs": [
    {
     "data": {
      "text/plain": [
       "float"
      ]
     },
     "execution_count": 37,
     "metadata": {},
     "output_type": "execute_result"
    }
   ],
   "source": [
    "type(var4)"
   ]
  },
  {
   "cell_type": "markdown",
   "id": "33d35010-e767-4715-af56-879ec9adc53f",
   "metadata": {},
   "source": [
    "## Q3. Explain the use of the following operators using an example:"
   ]
  },
  {
   "cell_type": "markdown",
   "id": "a72fa47a-ee15-48b3-a526-aef8880abe1b",
   "metadata": {},
   "source": [
    "## (i) /\n"
   ]
  },
  {
   "cell_type": "markdown",
   "id": "0d5b1ab0-a0d8-4509-8269-bf7a82d85e39",
   "metadata": {},
   "source": [
    "### use for division\n"
   ]
  },
  {
   "cell_type": "markdown",
   "id": "d6e27c08-c4b0-4357-9d6d-497aee05e7d3",
   "metadata": {},
   "source": [
    "## (ii) %\n"
   ]
  },
  {
   "cell_type": "markdown",
   "id": "50ee06ae-d0e5-47df-9e34-5af4ce88ae11",
   "metadata": {},
   "source": [
    "### use for reminder"
   ]
  },
  {
   "cell_type": "markdown",
   "id": "c58cd792-032b-4cdc-898f-433ef98dcf4f",
   "metadata": {},
   "source": [
    "## (iii) //\n"
   ]
  },
  {
   "cell_type": "markdown",
   "id": "1916607e-ee9d-4807-90fa-e28ff2ebb040",
   "metadata": {},
   "source": [
    "### use for round of "
   ]
  },
  {
   "cell_type": "markdown",
   "id": "eae0742c-44fb-463d-8082-cc828b38b421",
   "metadata": {},
   "source": [
    "## (iv) **"
   ]
  },
  {
   "cell_type": "markdown",
   "id": "fd213711-af1c-45e7-8b8c-31fc1165c0d1",
   "metadata": {},
   "source": [
    "### use for power"
   ]
  },
  {
   "cell_type": "markdown",
   "id": "31cda18e-eaa9-4eb3-9e7b-44cd4a4e7e2f",
   "metadata": {
    "tags": []
   },
   "source": [
    "## Q4. Create a list of length 10 of your choice containing multiple types of data. Using for loop print the element and its data type."
   ]
  },
  {
   "cell_type": "code",
   "execution_count": 52,
   "id": "020bc9d3-c9a1-4829-b0f0-6dc0eb262d2c",
   "metadata": {},
   "outputs": [],
   "source": [
    "l=[12,\"what\",457.59,[385],(2549),452,409.98,869,\"house\",[584]]"
   ]
  },
  {
   "cell_type": "code",
   "execution_count": 68,
   "id": "fe4d96c5-bdf5-45b8-abd0-993fac607a59",
   "metadata": {},
   "outputs": [
    {
     "name": "stdout",
     "output_type": "stream",
     "text": [
      "12\n",
      "<class 'int'>\n",
      "what\n",
      "<class 'str'>\n",
      "457.59\n",
      "<class 'float'>\n",
      "[385]\n",
      "<class 'list'>\n",
      "2549\n",
      "<class 'int'>\n",
      "452\n",
      "<class 'int'>\n",
      "409.98\n",
      "<class 'float'>\n",
      "869\n",
      "<class 'int'>\n",
      "house\n",
      "<class 'str'>\n",
      "[584]\n",
      "<class 'list'>\n"
     ]
    }
   ],
   "source": [
    "for k in l:\n",
    "    print(k)\n",
    "    print(type(k))"
   ]
  },
  {
   "cell_type": "markdown",
   "id": "424f1e47-65a7-4534-afd0-874d057521a6",
   "metadata": {},
   "source": [
    "## Q5. Using a while loop, verify if the number A is purely divisible by number B and if so then how many times it can be divisible."
   ]
  },
  {
   "cell_type": "code",
   "execution_count": null,
   "id": "5c31b9a7-6396-4953-a3eb-a52209dba69c",
   "metadata": {},
   "outputs": [],
   "source": []
  },
  {
   "cell_type": "code",
   "execution_count": 72,
   "id": "4abaea3d-8b97-403b-b28c-0aee6303137b",
   "metadata": {},
   "outputs": [
    {
     "name": "stdout",
     "output_type": "stream",
     "text": [
      "45 is divisible by 3\n",
      "58 is not divisible by 3\n",
      "3 is divisible by 3\n",
      "56 is not divisible by 3\n",
      "87 is divisible by 3\n",
      "15 is divisible by 3\n",
      "65 is not divisible by 3\n",
      "478 is not divisible by 3\n",
      "2654 is not divisible by 3\n",
      "67 is not divisible by 3\n",
      "2165 is not divisible by 3\n",
      "594 is divisible by 3\n",
      "254 is not divisible by 3\n",
      "472 is not divisible by 3\n",
      "740 is not divisible by 3\n",
      "585 is divisible by 3\n",
      "1821 is divisible by 3\n",
      "820 is not divisible by 3\n",
      "5651 is not divisible by 3\n",
      "206 is not divisible by 3\n",
      "8253 is divisible by 3\n",
      "5512 is not divisible by 3\n",
      "150 is divisible by 3\n",
      "541 is not divisible by 3\n",
      "5455 is not divisible by 3\n"
     ]
    }
   ],
   "source": [
    "k = [45, 58, 3, 56, 87, 15, 65, 478, 2654, 67, 2165, 594, 254, 472, 740, 585, 1821, 820, 5651, 206, 8253, 5512, 150, 541, 5455]\n",
    "for i in k:\n",
    "    if i % 3 == 0:\n",
    "        print(f\"{i} is divisible by 3\")\n",
    "    else:\n",
    "        print(f\"{i} is not divisible by 3\")"
   ]
  },
  {
   "cell_type": "markdown",
   "id": "2913aa04-593a-41f3-b7d3-6a273b04d193",
   "metadata": {},
   "source": [
    "## Q7. What do you understand about mutable and immutable data types? Give examples for both showing this property."
   ]
  },
  {
   "cell_type": "code",
   "execution_count": 33,
   "id": "487d196f-24cf-487a-92bf-682f959f17be",
   "metadata": {},
   "outputs": [],
   "source": [
    "# Ans Immutable Data Types:\n",
    "# Immutable data types are those whose values cannot be modified once they are assigned.\n",
    "# Examples of immutable data types:\n",
    "\n",
    "# Strings: In Python, strings are immutable. Once a string object is created, its value cannot be changed. \n"
   ]
  },
  {
   "cell_type": "code",
   "execution_count": 44,
   "id": "2538342a-bf39-4d4a-938f-e730cbf6b7f8",
   "metadata": {},
   "outputs": [
    {
     "ename": "AttributeError",
     "evalue": "'str' object has no attribute 'append'",
     "output_type": "error",
     "traceback": [
      "\u001b[0;31m---------------------------------------------------------------------------\u001b[0m",
      "\u001b[0;31mAttributeError\u001b[0m                            Traceback (most recent call last)",
      "Cell \u001b[0;32mIn[45], line 2\u001b[0m\n\u001b[1;32m      1\u001b[0m s \u001b[38;5;241m=\u001b[39m \u001b[38;5;124m\"\u001b[39m\u001b[38;5;124mhello world\u001b[39m\u001b[38;5;124m\"\u001b[39m\n\u001b[0;32m----> 2\u001b[0m \u001b[43ms\u001b[49m\u001b[38;5;241;43m.\u001b[39;49m\u001b[43mappend\u001b[49m(\u001b[38;5;124m\"\u001b[39m\u001b[38;5;124mhouse\u001b[39m\u001b[38;5;124m\"\u001b[39m)\n",
      "\u001b[0;31mAttributeError\u001b[0m: 'str' object has no attribute 'append'"
     ]
    }
   ],
   "source": [
    "s = \"hello world\"\n",
    "s.append(house)"
   ]
  },
  {
   "cell_type": "markdown",
   "id": "3c76b674-db35-4458-8dba-0a0fca854e98",
   "metadata": {},
   "source": [
    "### string is immutable that,s why you can.t change any thing"
   ]
  },
  {
   "cell_type": "markdown",
   "id": "aebac300-52c2-484b-9d5c-2f201a14dbab",
   "metadata": {},
   "source": [
    "## 2. Tuples are another example of an immutable data type in Python. Once a tuple is created, its elements cannot be modified."
   ]
  },
  {
   "cell_type": "code",
   "execution_count": 48,
   "id": "70092d2a-52e0-4372-8234-1ae81e9478f1",
   "metadata": {},
   "outputs": [
    {
     "ename": "AttributeError",
     "evalue": "'tuple' object has no attribute 'append'",
     "output_type": "error",
     "traceback": [
      "\u001b[0;31m---------------------------------------------------------------------------\u001b[0m",
      "\u001b[0;31mAttributeError\u001b[0m                            Traceback (most recent call last)",
      "Cell \u001b[0;32mIn[48], line 2\u001b[0m\n\u001b[1;32m      1\u001b[0m t \u001b[38;5;241m=\u001b[39m (\u001b[38;5;241m1\u001b[39m,\u001b[38;5;241m2\u001b[39m,\u001b[38;5;241m3\u001b[39m)\n\u001b[0;32m----> 2\u001b[0m \u001b[43mt\u001b[49m\u001b[38;5;241;43m.\u001b[39;49m\u001b[43mappend\u001b[49m(\u001b[38;5;241m9\u001b[39m)\n",
      "\u001b[0;31mAttributeError\u001b[0m: 'tuple' object has no attribute 'append'"
     ]
    }
   ],
   "source": [
    "t = (1,2,3)\n",
    "t.append(9)\n"
   ]
  },
  {
   "cell_type": "markdown",
   "id": "23cee98f-0e81-44f3-81a7-eb383343f17e",
   "metadata": {},
   "source": [
    "##tuple is immutable that,s why you can.t change any thing"
   ]
  },
  {
   "cell_type": "code",
   "execution_count": null,
   "id": "a3c6355b-b3c1-4305-8738-3026844ab372",
   "metadata": {},
   "outputs": [],
   "source": []
  },
  {
   "cell_type": "markdown",
   "id": "4c09fbc9-a95d-47ca-ba6f-2510db3fae69",
   "metadata": {},
   "source": [
    "## Mutable Data Types:\n",
    "## Mutable data types, on the other hand, allow modifications to their values after they are created. \n"
   ]
  },
  {
   "cell_type": "markdown",
   "id": "70d17a2c-7bc1-4202-8c5f-3dbaf572047e",
   "metadata": {},
   "source": [
    "## Lists: Lists in Python are mutable. Elements can be added, removed, or modified after the list is created\n"
   ]
  },
  {
   "cell_type": "code",
   "execution_count": 51,
   "id": "0466f5ed-31bd-4bda-b089-3f4b64806f35",
   "metadata": {},
   "outputs": [],
   "source": [
    "list = [1,2,3,4]\n",
    "list.append(9)"
   ]
  },
  {
   "cell_type": "code",
   "execution_count": 52,
   "id": "d8490825-242b-49b5-85d5-1d481d3d8056",
   "metadata": {},
   "outputs": [
    {
     "data": {
      "text/plain": [
       "[1, 2, 3, 4, 9]"
      ]
     },
     "execution_count": 52,
     "metadata": {},
     "output_type": "execute_result"
    }
   ],
   "source": [
    "list"
   ]
  },
  {
   "cell_type": "markdown",
   "id": "bc77c97e-f20f-4a4b-a79a-1f07386a332f",
   "metadata": {},
   "source": [
    "### you can change any thing in list"
   ]
  },
  {
   "cell_type": "markdown",
   "id": "b205748c-7fe0-4257-9532-363e188ca6ec",
   "metadata": {},
   "source": [
    "## Dictionaries: Dictionaries in Python are also mutable. Key-value pairs can be added, removed, or modified after the dictionary is created.\n",
    "\n"
   ]
  },
  {
   "cell_type": "code",
   "execution_count": 68,
   "id": "e64565ec-305f-4594-9c88-55e880704a71",
   "metadata": {},
   "outputs": [],
   "source": [
    "dict1 = {\"name\": \"John\", \"age\": 25}\n",
    "dict1[\"age\"] = 30\n"
   ]
  },
  {
   "cell_type": "code",
   "execution_count": 65,
   "id": "6370740b-66e4-4db7-be71-5e5b6a4c6bb1",
   "metadata": {},
   "outputs": [
    {
     "data": {
      "text/plain": [
       "{'name': 'John', 'age': 30}"
      ]
     },
     "execution_count": 65,
     "metadata": {},
     "output_type": "execute_result"
    }
   ],
   "source": [
    "dict1"
   ]
  },
  {
   "cell_type": "markdown",
   "id": "fc1a7a21-50df-43b9-bfc0-a6b7a8e989ce",
   "metadata": {},
   "source": [
    "### you can change any thing in dict"
   ]
  },
  {
   "cell_type": "code",
   "execution_count": 71,
   "id": "e4db9727-4257-4acb-82aa-cc67738c212d",
   "metadata": {},
   "outputs": [
    {
     "name": "stdout",
     "output_type": "stream",
     "text": [
      "45 is divisible by 3\n",
      "58 is not divisible by 3\n",
      "3 is divisible by 3\n",
      "56 is not divisible by 3\n",
      "87 is divisible by 3\n",
      "15 is divisible by 3\n",
      "65 is not divisible by 3\n",
      "478 is not divisible by 3\n",
      "2654 is not divisible by 3\n",
      "67 is not divisible by 3\n",
      "2165 is not divisible by 3\n",
      "594 is divisible by 3\n",
      "254 is not divisible by 3\n",
      "472 is not divisible by 3\n",
      "740 is not divisible by 3\n",
      "585 is divisible by 3\n",
      "1821 is divisible by 3\n",
      "820 is not divisible by 3\n",
      "5651 is not divisible by 3\n",
      "206 is not divisible by 3\n",
      "8253 is divisible by 3\n",
      "5512 is not divisible by 3\n",
      "150 is divisible by 3\n",
      "541 is not divisible by 3\n",
      "5455 is not divisible by 3\n"
     ]
    }
   ],
   "source": [
    "k = [45, 58, 3, 56, 87, 15, 65, 478, 2654, 67, 2165, 594, 254, 472, 740, 585, 1821, 820, 5651, 206, 8253, 5512, 150, 541, 5455]\n",
    "for i in k:\n",
    "    if i % 3 == 0:\n",
    "        print(f\"{i} is divisible by 3\")\n",
    "    else:\n",
    "        print(f\"{i} is not divisible by 3\")"
   ]
  },
  {
   "cell_type": "code",
   "execution_count": null,
   "id": "bba2df34-6150-4bc9-889a-1b6ba3d4c152",
   "metadata": {},
   "outputs": [],
   "source": []
  }
 ],
 "metadata": {
  "kernelspec": {
   "display_name": "Python 3 (ipykernel)",
   "language": "python",
   "name": "python3"
  },
  "language_info": {
   "codemirror_mode": {
    "name": "ipython",
    "version": 3
   },
   "file_extension": ".py",
   "mimetype": "text/x-python",
   "name": "python",
   "nbconvert_exporter": "python",
   "pygments_lexer": "ipython3",
   "version": "3.10.8"
  }
 },
 "nbformat": 4,
 "nbformat_minor": 5
}
